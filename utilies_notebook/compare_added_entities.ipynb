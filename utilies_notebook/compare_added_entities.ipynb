{
 "cells": [
  {
   "cell_type": "code",
   "execution_count": 1,
   "metadata": {},
   "outputs": [],
   "source": [
    "from xml.dom import minidom\n",
    "mydoc = minidom.parse('fused-2.xml')\n",
    "\n",
    "items = mydoc.getElementsByTagName(\"book\")\n",
    "fuse_old = []\n",
    "sum_ = 0\n",
    "for i in items:\n",
    "    fuse_old.append([i.getElementsByTagName('id')[0].firstChild.data,\n",
    "                     i.getElementsByTagName('title')[0].firstChild.data, i.getElementsByTagName('published_date')[0].firstChild.data])\n",
    "                "
   ]
  },
  {
   "cell_type": "code",
   "execution_count": 6,
   "metadata": {},
   "outputs": [
    {
     "name": "stdout",
     "output_type": "stream",
     "text": [
      "['ISBN', 'Book-Title', 'Book-Author', 'Year-Of-Publication', 'Publisher', 'Image-URL-S', 'Image-URL-M', 'Image-URL-L']\n"
     ]
    }
   ],
   "source": [
    "import csv\n",
    "book_crossing = []\n",
    "generate_id = \"book_crossing_id_\"\n",
    "id_index = 0\n",
    "with open('datasets/BX-CSV-Dump/BX-Books.csv', newline='', encoding='utf-8', errors='ignore') as csvfile:\n",
    "    spamreader = csv.reader(csvfile, delimiter=';')\n",
    "    for index, row in enumerate(spamreader):\n",
    "        if index > 0:\n",
    "            \n",
    "            row.append(generate_id + str(id_index))\n",
    "            book_crossing.append(row)\n",
    "            id_index += 1\n",
    "        else:\n",
    "            print(row)"
   ]
  },
  {
   "cell_type": "code",
   "execution_count": 10,
   "metadata": {},
   "outputs": [
    {
     "name": "stdout",
     "output_type": "stream",
     "text": [
      "['0195153448', 'Classical Mythology', 'Mark P. O. Morford', '2002', 'Oxford University Press', 'http://images.amazon.com/images/P/0195153448.01.THUMBZZZ.jpg', 'http://images.amazon.com/images/P/0195153448.01.MZZZZZZZ.jpg', 'http://images.amazon.com/images/P/0195153448.01.LZZZZZZZ.jpg', 'book_crossing_id_0']\n",
      "\n",
      "\n",
      "\n",
      "['bestbook_31_id_43154+goodread_id_5923', 'Diary', '2003-08-26T00:00']\n"
     ]
    }
   ],
   "source": [
    "print(book_crossing[0])\n",
    "print(\"\\n\\n\")\n",
    "print(fuse_old[0])"
   ]
  },
  {
   "cell_type": "code",
   "execution_count": 13,
   "metadata": {},
   "outputs": [],
   "source": [
    "count_sample_without_crossing = 0\n",
    "for sample in fuse_old:\n",
    "    if \"crossing\" not in sample[0]:\n",
    "        count_sample_without_crossing += 1"
   ]
  },
  {
   "cell_type": "code",
   "execution_count": 14,
   "metadata": {},
   "outputs": [
    {
     "name": "stdout",
     "output_type": "stream",
     "text": [
      "1553\n"
     ]
    }
   ],
   "source": [
    "print(count_sample_without_crossing)"
   ]
  },
  {
   "cell_type": "code",
   "execution_count": null,
   "metadata": {},
   "outputs": [],
   "source": []
  }
 ],
 "metadata": {
  "kernelspec": {
   "display_name": "Python 3",
   "language": "python",
   "name": "python3"
  },
  "language_info": {
   "codemirror_mode": {
    "name": "ipython",
    "version": 3
   },
   "file_extension": ".py",
   "mimetype": "text/x-python",
   "name": "python",
   "nbconvert_exporter": "python",
   "pygments_lexer": "ipython3",
   "version": "3.6.12"
  }
 },
 "nbformat": 4,
 "nbformat_minor": 4
}
