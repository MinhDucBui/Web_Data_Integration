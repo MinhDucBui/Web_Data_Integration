{
 "cells": [
  {
   "cell_type": "code",
   "execution_count": 1,
   "metadata": {},
   "outputs": [],
   "source": [
    "import csv"
   ]
  },
  {
   "cell_type": "code",
   "execution_count": 2,
   "metadata": {},
   "outputs": [
    {
     "name": "stdout",
     "output_type": "stream",
     "text": [
      "['ISBN', 'Book-Title', 'Book-Author', 'Year-Of-Publication', 'Publisher', 'Image-URL-S', 'Image-URL-M', 'Image-URL-L']\n"
     ]
    }
   ],
   "source": [
    "book_crossing = []\n",
    "generate_id = \"book_crossing_id_\"\n",
    "id_index = 0\n",
    "with open('datasets/BX-CSV-Dump/BX-Books.csv', newline='', encoding='utf-8', errors='ignore') as csvfile:\n",
    "    spamreader = csv.reader(csvfile, delimiter=';')\n",
    "    for index, row in enumerate(spamreader):\n",
    "        if index > 0:\n",
    "            \n",
    "            row.append(generate_id + str(id_index))\n",
    "            book_crossing.append(row)\n",
    "            id_index += 1\n",
    "        else:\n",
    "            print(row)"
   ]
  },
  {
   "cell_type": "code",
   "execution_count": 3,
   "metadata": {},
   "outputs": [
    {
     "name": "stdout",
     "output_type": "stream",
     "text": [
      "['bookID', 'title', 'authors', 'average_rating', 'isbn', 'isbn13', 'language_code', '  num_pages', 'ratings_count', 'text_reviews_count', 'publication_date', 'publisher']\n"
     ]
    }
   ],
   "source": [
    "book_goodread = []\n",
    "generate_id = \"goodread_id_\"\n",
    "id_index = 0\n",
    "with open('datasets/goodread.csv', newline='', encoding='utf-8', errors='ignore') as csvfile:\n",
    "    spamreader = csv.reader(csvfile, delimiter=',')\n",
    "    for index, row in enumerate(spamreader):\n",
    "        if index > 0:\n",
    "            row.append(generate_id + str(id_index))\n",
    "            book_goodread.append(row)\n",
    "            id_index += 1\n",
    "        else:\n",
    "            print(row)"
   ]
  },
  {
   "cell_type": "code",
   "execution_count": 4,
   "metadata": {
    "scrolled": false
   },
   "outputs": [],
   "source": [
    "from xml.dom import minidom\n",
    "\n",
    "mydoc = minidom.parse('31FeaturesBooks.xml')\n"
   ]
  },
  {
   "cell_type": "code",
   "execution_count": 5,
   "metadata": {},
   "outputs": [],
   "source": [
    "items = mydoc.getElementsByTagName(\"book\")\n",
    "bestbook = []\n",
    "sum_ = 0\n",
    "for i in items:\n",
    "    try:\n",
    "        bestbook.append([i.attributes['id'].value, i.getElementsByTagName('isbn')[0].firstChild.data])\n",
    "    except:\n",
    "        sum_ += 1\n",
    "\n"
   ]
  },
  {
   "cell_type": "code",
   "execution_count": 72,
   "metadata": {},
   "outputs": [],
   "source": [
    "goodread_crossing = []\n",
    "for goodread_row in book_goodread:\n",
    "    for crossing_row in book_crossing:\n",
    "        if goodread_row[4] == crossing_row[0]:\n",
    "            goodread_crossing.append([goodread_row[-1], crossing_row[-1]])\n",
    "            break"
   ]
  },
  {
   "cell_type": "code",
   "execution_count": 140,
   "metadata": {},
   "outputs": [],
   "source": [
    "goodread_bestbook = []\n",
    "for goodread_row in book_goodread:\n",
    "    for bestbook_row in bestbook:\n",
    "        if goodread_row[4] == bestbook_row[1]:\n",
    "            goodread_bestbook.append([goodread_row[-1], bestbook_row[0]])\n",
    "            break"
   ]
  },
  {
   "cell_type": "code",
   "execution_count": 153,
   "metadata": {},
   "outputs": [],
   "source": [
    "crossing_bestbook = []\n",
    "for crossing_row in book_crossing:\n",
    "    for bestbook_row in bestbook:\n",
    "        if bestbook_row[1] == crossing_row[0]:\n",
    "            crossing_bestbook.append([crossing_row[-1], bestbook_row[0]])\n",
    "            break\n"
   ]
  },
  {
   "cell_type": "code",
   "execution_count": 98,
   "metadata": {},
   "outputs": [],
   "source": [
    "with open('goodread_crossing.csv', 'w') as csvfile:\n",
    "    filewriter = csv.writer(csvfile, delimiter=',',\n",
    "                            quotechar='|', quoting=csv.QUOTE_MINIMAL)\n",
    "    for i in goodread_crossing:\n",
    "        filewriter.writerow(i)"
   ]
  },
  {
   "cell_type": "code",
   "execution_count": 144,
   "metadata": {},
   "outputs": [],
   "source": [
    "with open('goodread_bestbook.csv', 'w') as csvfile:\n",
    "    filewriter = csv.writer(csvfile, delimiter=',',\n",
    "                            quotechar='|', quoting=csv.QUOTE_MINIMAL)\n",
    "    for i in goodread_bestbook:\n",
    "        i.append(\"True\")\n",
    "        filewriter.writerow(i)"
   ]
  },
  {
   "cell_type": "code",
   "execution_count": 154,
   "metadata": {},
   "outputs": [],
   "source": [
    "with open('crossing_bestbook.csv', 'w') as csvfile:\n",
    "    filewriter = csv.writer(csvfile, delimiter=',',\n",
    "                            quotechar='|', quoting=csv.QUOTE_MINIMAL)\n",
    "    for i in crossing_bestbook:\n",
    "        i.append(\"True\")\n",
    "        filewriter.writerow(i)"
   ]
  }
 ],
 "metadata": {
  "kernelspec": {
   "display_name": "Python 3",
   "language": "python",
   "name": "python3"
  },
  "language_info": {
   "codemirror_mode": {
    "name": "ipython",
    "version": 3
   },
   "file_extension": ".py",
   "mimetype": "text/x-python",
   "name": "python",
   "nbconvert_exporter": "python",
   "pygments_lexer": "ipython3",
   "version": "3.6.12"
  }
 },
 "nbformat": 4,
 "nbformat_minor": 4
}
